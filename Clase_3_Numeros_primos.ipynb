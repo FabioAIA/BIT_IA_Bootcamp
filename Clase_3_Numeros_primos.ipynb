{
  "nbformat": 4,
  "nbformat_minor": 0,
  "metadata": {
    "colab": {
      "provenance": [],
      "authorship_tag": "ABX9TyMQtv7+9nXaCxdlS+lH2cW0",
      "include_colab_link": true
    },
    "kernelspec": {
      "name": "python3",
      "display_name": "Python 3"
    },
    "language_info": {
      "name": "python"
    }
  },
  "cells": [
    {
      "cell_type": "markdown",
      "metadata": {
        "id": "view-in-github",
        "colab_type": "text"
      },
      "source": [
        "<a href=\"https://colab.research.google.com/github/FabioAIA/BIT_IA_Bootcamp/blob/main/Clase_3_Numeros_primos.ipynb\" target=\"_parent\"><img src=\"https://colab.research.google.com/assets/colab-badge.svg\" alt=\"Open In Colab\"/></a>"
      ]
    },
    {
      "cell_type": "code",
      "execution_count": null,
      "metadata": {
        "id": "ZIpGaM0d8YYy"
      },
      "outputs": [],
      "source": []
    },
    {
      "cell_type": "markdown",
      "source": [
        "NUMERO PRIMO\n",
        "crear un funcion para definir si un numero es primo\n",
        "numeros menores que 2 no son primos\n"
      ],
      "metadata": {
        "id": "14g6xYRK8eCb"
      }
    },
    {
      "cell_type": "code",
      "source": [
        "def es_primo(numero):\n",
        "  if numero < 2:\n",
        "    return false\n",
        "\n",
        "  for i in range(2,int(numero**0.5) +1):\n",
        "    # numero % i\n",
        "    # = 0 entero entonces es divisible\n",
        "    # = 1 decimal entonces no es divisible\n",
        "    resultado = numero /i\n",
        "    if numero % i == 0:\n",
        "      return False\n",
        "    return True"
      ],
      "metadata": {
        "id": "0p54OH5O88q6"
      },
      "execution_count": 18,
      "outputs": []
    },
    {
      "cell_type": "code",
      "source": [
        "try:\n",
        "  numero = int(input(\"ingrese el numero \"))\n",
        "  p = es_primo(numero)\n",
        "  if p == True:\n",
        "    print(f(el numero ))\n",
        "except ValueError:\n",
        "  print(\"el valor ingresado no es un numero valido\")\n"
      ],
      "metadata": {
        "colab": {
          "base_uri": "https://localhost:8080/"
        },
        "id": "C8jDgk8eHrm0",
        "outputId": "c722be47-8611-4ca9-d6f0-449da4f40564"
      },
      "execution_count": 20,
      "outputs": [
        {
          "output_type": "stream",
          "name": "stdout",
          "text": [
            "ingrese el numero hola\n",
            "el valor ingresado no es un numero valido\n"
          ]
        }
      ]
    },
    {
      "cell_type": "code",
      "source": [
        "es_primo(numero)"
      ],
      "metadata": {
        "id": "uWLQX5G6MAYt"
      },
      "execution_count": null,
      "outputs": []
    }
  ]
}