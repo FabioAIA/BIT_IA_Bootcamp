{
  "nbformat": 4,
  "nbformat_minor": 0,
  "metadata": {
    "colab": {
      "provenance": [],
      "authorship_tag": "ABX9TyP9M8dmmv92T3rA7MKdYT+1",
      "include_colab_link": true
    },
    "kernelspec": {
      "name": "python3",
      "display_name": "Python 3"
    },
    "language_info": {
      "name": "python"
    }
  },
  "cells": [
    {
      "cell_type": "markdown",
      "metadata": {
        "id": "view-in-github",
        "colab_type": "text"
      },
      "source": [
        "<a href=\"https://colab.research.google.com/github/FabioAIA/BIT_IA_Bootcamp/blob/main/S1_Clase_1_Interes_Compuesto.ipynb\" target=\"_parent\"><img src=\"https://colab.research.google.com/assets/colab-badge.svg\" alt=\"Open In Colab\"/></a>"
      ]
    },
    {
      "cell_type": "markdown",
      "source": [
        "Semana 1. Clase 1\n",
        "Caso de indicadores financieros\n",
        "\n",
        "Reto : Tengo $1.000.000 quiero duplicarlos  ¿Cuánto tiempo tardaré en duplicar mi dinero si la tasa de interés anual es del 8.5%, con una capitalización anual?\n",
        "\n"
      ],
      "metadata": {
        "id": "pQPsauFY52GQ"
      }
    },
    {
      "cell_type": "code",
      "source": [],
      "metadata": {
        "id": "GPuRmRI655jE"
      },
      "execution_count": null,
      "outputs": []
    },
    {
      "cell_type": "code",
      "execution_count": null,
      "metadata": {
        "id": "1Ae0UJmBZ8a_"
      },
      "outputs": [],
      "source": [
        "Caso de indicadores financieros\n",
        "\n",
        "Reto : Tengo $1.000.000 quiero duplicarlos  ¿Cuánto tiempo tardaré en duplicar mi dinero si la tasa de interés anual es del 8.5%, con una capitalización anual?"
      ]
    },
    {
      "cell_type": "markdown",
      "source": [
        "Actividad 1. Calcular el numero de periodos"
      ],
      "metadata": {
        "id": "tnoRRMOs3jgf"
      }
    },
    {
      "cell_type": "code",
      "source": [
        "import math"
      ],
      "metadata": {
        "id": "mv3jQhpCjzpm"
      },
      "execution_count": null,
      "outputs": []
    },
    {
      "cell_type": "code",
      "source": [
        "A = 2*P\n",
        "P = 1000000\n",
        "i = 0.085\n",
        "n= math.log(A/P) /(math.log(i + 1))\n",
        "n = round(n,2)\n",
        "print (\"el tiempo para duplicar el capital es :\" + str(n) + \" años\" )\n"
      ],
      "metadata": {
        "id": "fKwrbQu9kEME",
        "colab": {
          "base_uri": "https://localhost:8080/"
        },
        "outputId": "2bba951a-d600-4b21-808a-1ef192c38522"
      },
      "execution_count": null,
      "outputs": [
        {
          "output_type": "stream",
          "name": "stdout",
          "text": [
            "el tiempo para duplicar el capital es :8.5 años\n"
          ]
        }
      ]
    },
    {
      "cell_type": "code",
      "source": [
        "Actividad 2. Construir la funcion para calcular el periodo"
      ],
      "metadata": {
        "id": "N5JzUwVN3rNq"
      },
      "execution_count": null,
      "outputs": []
    },
    {
      "cell_type": "code",
      "source": [
        "Construir una funcion\n",
        " se usa para reutilizar el codigo\n"
      ],
      "metadata": {
        "id": "6TAb7MZ6a0r3"
      },
      "execution_count": null,
      "outputs": []
    },
    {
      "cell_type": "code",
      "source": [
        "import math"
      ],
      "metadata": {
        "id": "ocw42wFp2dGw"
      },
      "execution_count": null,
      "outputs": []
    },
    {
      "cell_type": "code",
      "source": [
        "def periodos(P,A,i):\n",
        "    n = math.log(A/P) /(math.log(i + 1))\n",
        "    return n\n"
      ],
      "metadata": {
        "id": "u9L3QYzgzXbH"
      },
      "execution_count": null,
      "outputs": []
    },
    {
      "cell_type": "code",
      "source": [
        "periodos(1000000,3000000,0.010)"
      ],
      "metadata": {
        "colab": {
          "base_uri": "https://localhost:8080/"
        },
        "id": "gakI-fpB5YmL",
        "outputId": "b0be98b2-8f02-434e-d21e-62f151ea36f4"
      },
      "execution_count": null,
      "outputs": [
        {
          "output_type": "execute_result",
          "data": {
            "text/plain": [
              "110.40962404966885"
            ]
          },
          "metadata": {},
          "execution_count": 25
        }
      ]
    },
    {
      "cell_type": "markdown",
      "source": [
        "Actividad 3\n",
        "\n",
        "Crear una funcion para calcular el valor futuro dado el capital inicial el interes y los periodos de capitalizacion\n",
        "A = P(i + i )n"
      ],
      "metadata": {
        "id": "fr655NhW6D0S"
      }
    },
    {
      "cell_type": "code",
      "source": [
        "import math"
      ],
      "metadata": {
        "id": "wIGxz6WR7XPV"
      },
      "execution_count": null,
      "outputs": []
    },
    {
      "cell_type": "code",
      "source": [
        "def valorfuturo(P,n,i):\n",
        "  A = P*(i + 1)**n\n",
        "  return A"
      ],
      "metadata": {
        "id": "ThZQihza7eaT"
      },
      "execution_count": null,
      "outputs": []
    },
    {
      "cell_type": "code",
      "source": [
        "valorfuturo(500,4,0.08)\n"
      ],
      "metadata": {
        "colab": {
          "base_uri": "https://localhost:8080/"
        },
        "id": "tsl3RhsB-D_0",
        "outputId": "2aca8623-ae68-4e90-d4d4-37ceb4448c3a"
      },
      "execution_count": null,
      "outputs": [
        {
          "output_type": "execute_result",
          "data": {
            "text/plain": [
              "680.2444800000002"
            ]
          },
          "metadata": {},
          "execution_count": 48
        }
      ]
    },
    {
      "cell_type": "markdown",
      "source": [
        "Actividad 4 Capital Inicial"
      ],
      "metadata": {
        "id": "jE_iED4e_m3V"
      }
    },
    {
      "cell_type": "code",
      "source": [
        "def capitalInicial(A,i,n):\n",
        "  P= A/((1 + i)**n)\n",
        "  return P"
      ],
      "metadata": {
        "id": "5xv1PEBF-n_t"
      },
      "execution_count": null,
      "outputs": []
    },
    {
      "cell_type": "code",
      "source": [
        "capitalInicial(680.24,0.08,4)"
      ],
      "metadata": {
        "colab": {
          "base_uri": "https://localhost:8080/"
        },
        "id": "05tjPEk5_MBU",
        "outputId": "b8371d7a-642b-45e7-8f76-bbf907fad4a1"
      },
      "execution_count": null,
      "outputs": [
        {
          "output_type": "execute_result",
          "data": {
            "text/plain": [
              "499.9967070662594"
            ]
          },
          "metadata": {},
          "execution_count": 28
        }
      ]
    },
    {
      "cell_type": "markdown",
      "source": [
        "Actividad 5. Calcular el interes\n"
      ],
      "metadata": {
        "id": "2Gm2aGSG_3KQ"
      }
    },
    {
      "cell_type": "code",
      "source": [
        "def interesComp(A,P,n):\n",
        "  i = (A/P)**(1/n) - 1\n",
        "  return i"
      ],
      "metadata": {
        "id": "7Fzng_ni_-9E"
      },
      "execution_count": null,
      "outputs": []
    },
    {
      "cell_type": "code",
      "source": [
        "interesComp(680.24,500,4)"
      ],
      "metadata": {
        "id": "oGxRP2PYBN84"
      },
      "execution_count": null,
      "outputs": []
    },
    {
      "cell_type": "markdown",
      "source": [
        "Actividad 6. Utilizar un condicional para llamar las funciones creadas en las actividades anteriores"
      ],
      "metadata": {
        "id": "9RSnzkBMrQLU"
      }
    },
    {
      "cell_type": "code",
      "source": [],
      "metadata": {
        "id": "LAtVFcjyv1T1"
      },
      "execution_count": null,
      "outputs": []
    },
    {
      "cell_type": "code",
      "source": [
        "print(\"elije el valor que quiere calcular\")\n",
        "print(\"1 Calculo del tiempo para duplicar el capital\")\n",
        "print(\"2 Calculo del valor futuro\")\n",
        "print(\"3 Calculo del capital inicial\")\n",
        "print(\"4. Calculo de la tasa de interes\")\n",
        "opcion = int(input(\"Elije la opcion:\"))"
      ],
      "metadata": {
        "colab": {
          "base_uri": "https://localhost:8080/"
        },
        "id": "-yhsG31wrfuL",
        "outputId": "4169dbcf-380c-4c43-90ca-dfab1ae7d952"
      },
      "execution_count": null,
      "outputs": [
        {
          "name": "stdout",
          "output_type": "stream",
          "text": [
            "elije el valor que quiere calcular\n",
            "1 Calculo del tiempo para duplicar el capital\n",
            "2 Calculo del valor futuro\n",
            "3 Calculo del capital inicial\n",
            "4. Calculo de la tasa de interes\n",
            "Elije la opcion:1\n"
          ]
        }
      ]
    },
    {
      "cell_type": "code",
      "source": [
        "print(\"elije el valor que quiere calcular\")\n",
        "print(\"1 Calculo del tiempo para duplicar el capital\")\n",
        "print(\"2 Calculo del valor futuro\")\n",
        "print(\"3 Calculo del capital inicial\")\n",
        "print(\"4. Calculo de la tasa de interes\")\n",
        "opcion = int(input(\"Elije la opcion:\"))\n",
        "if opcion == 1:\n",
        "  print(\"funcion para calculo del tiempo para duplicar capital\")\n",
        "  n = periodos(1000000,3000000,0.010)\n",
        "  print (\"el tiempo para duplicar el capital es :\" + str(n) + \" años\" )\n",
        "elif opcion == 2:\n",
        "  print(\"Funcion para calculara el valor futuro\")\n",
        "  f = valorfuturo(500,4,0.08)\n",
        "  print (\"el valor futuro es :\" + str(f) )\n",
        "elif opcion == 3:\n",
        "  print (\"Funcion para el calculo del capital inicial\")\n",
        "else:\n",
        "  print (\"Funcion para el calculo del interes\")"
      ],
      "metadata": {
        "colab": {
          "base_uri": "https://localhost:8080/"
        },
        "id": "iAa-z3Lurof3",
        "outputId": "c21298a1-3b39-438a-bfcc-a2a4aa792494"
      },
      "execution_count": null,
      "outputs": [
        {
          "output_type": "stream",
          "name": "stdout",
          "text": [
            "elije el valor que quiere calcular\n",
            "1 Calculo del tiempo para duplicar el capital\n",
            "2 Calculo del valor futuro\n",
            "3 Calculo del capital inicial\n",
            "4. Calculo de la tasa de interes\n",
            "Elije la opcion:1\n",
            "funcion para calculo del tiempo para duplicar capital\n",
            "el tiempo para duplicar el capital es :110.40962404966885 años\n"
          ]
        }
      ]
    },
    {
      "cell_type": "markdown",
      "source": [
        "Actividad 6 Utilizacion de funciones con parametros\n"
      ],
      "metadata": {
        "id": "HFR7YKsH3PES"
      }
    },
    {
      "cell_type": "code",
      "source": [
        "print(\"elije el valor que quiere calcular\")\n",
        "print(\"1 Calculo del tiempo para duplicar el capital\")\n",
        "print(\"2 Calculo del valor futuro\")\n",
        "print(\"3 Calculo del capital inicial\")\n",
        "print(\"4. Calculo de la tasa de interes\")\n",
        "opcion = int(input(\"Elije la opcion:\"))"
      ],
      "metadata": {
        "colab": {
          "base_uri": "https://localhost:8080/"
        },
        "id": "zftljgwS3l0W",
        "outputId": "bda9eccb-90ba-45e7-dd2f-67bc7cbb1781"
      },
      "execution_count": null,
      "outputs": [
        {
          "name": "stdout",
          "output_type": "stream",
          "text": [
            "elije el valor que quiere calcular\n",
            "1 Calculo del tiempo para duplicar el capital\n",
            "2 Calculo del valor futuro\n",
            "3 Calculo del capital inicial\n",
            "4. Calculo de la tasa de interes\n",
            "Elije la opcion:1\n"
          ]
        }
      ]
    },
    {
      "cell_type": "code",
      "source": [
        "print(\"elije el valor que quiere calcular\")\n",
        "print(\"1 Calculo del tiempo para duplicar el capital\")\n",
        "print(\"2 Calculo del valor futuro\")\n",
        "print(\"3 Calculo del capital inicial\")\n",
        "print(\"4. Calculo de la tasa de interes\")\n",
        "opcion = int(input(\"Elije la opcion:\"))\n",
        "if opcion == 1:\n",
        "  print(\"funcion para calculo del tiempo para duplicar capital\")\n",
        "  P = float(input(\" Escriba el valor Presente\"))\n",
        "  A = float(input(\" Escriba el valor Futuro\"))\n",
        "  i = float(input(\" Escriba la tasa de interes\"))\n",
        "  n = periodos(P,A,i)\n",
        "  print (\"el tiempo para duplicar el capital es :\" + str(n) + \" años\" )\n",
        "elif opcion == 2:\n",
        "  print(\"Funcion para calculara el valor futuro\")\n",
        "  P = float(input(\" Escriba el valor Presente\"))\n",
        "  i = float(input(\" Escriba la tasa de interes\"))\n",
        "  n = int(input(\"Escriba el periodo de tiempo\"))\n",
        "  f = valorfuturo(P,n,i)\n",
        "  print (\"el valor futuro es :\" + str(f) )\n",
        "elif opcion == 3:\n",
        "  print (\"Funcion para el calculo del capital inicial\")\n",
        "  A = float(input(\" Escriba el valor futuro\"))\n",
        "  i = float(input(\" Escriba la tasa de interes\"))\n",
        "  n = int(input(\"Escriba el periodo de tiempo\"))\n",
        "  ci = capitalInicial(A,i,n)\n",
        "  print (\"el capital inicial es :\" + str(ci) )\n",
        "elif opcion == 4:\n",
        "  print (\"Funcion para el calculo del interes\")\n",
        "  A = float(input(\" Escriba el valor futuro\"))\n",
        "  P = float(input(\" Escriba el capital inicial\"))\n",
        "  n = int(input(\"Escriba el periodo de tiempo\"))\n",
        "  ic = interesComp(A,P,n)\n",
        "  print (\"el tiempo para duplicar el capital es :\" + str(ic) )\n",
        "else:\n",
        "  print (\"Opcion no valida\")"
      ],
      "metadata": {
        "colab": {
          "base_uri": "https://localhost:8080/"
        },
        "id": "mMdusz8P4J55",
        "outputId": "6877107d-83d6-476f-b01e-fdcca0455853"
      },
      "execution_count": null,
      "outputs": [
        {
          "output_type": "stream",
          "name": "stdout",
          "text": [
            "elije el valor que quiere calcular\n",
            "1 Calculo del tiempo para duplicar el capital\n",
            "2 Calculo del valor futuro\n",
            "3 Calculo del capital inicial\n",
            "4. Calculo de la tasa de interes\n",
            "Elije la opcion:2\n",
            "Funcion para calculara el valor futuro\n",
            " Escriba el valor Presente1000\n",
            " Escriba la tasa de interes0.10\n",
            "Escriba el periodo de tiempo5\n",
            "el valor futuro es :1610.5100000000004\n"
          ]
        }
      ]
    },
    {
      "cell_type": "markdown",
      "source": [
        "Actividad para graficar\n",
        "generar un vectopr de 20 años o posiciones\n",
        "\n"
      ],
      "metadata": {
        "id": "yQdKknoaBJng"
      }
    },
    {
      "cell_type": "code",
      "source": [
        "import numpy as np\n",
        "\n",
        "x = np.linspace(0,20,21)\n",
        "\n",
        "#linspace(punto inicial, punto final, numero de elementos)\n"
      ],
      "metadata": {
        "id": "g4fL8enPBUsY"
      },
      "execution_count": null,
      "outputs": []
    }
  ]
}